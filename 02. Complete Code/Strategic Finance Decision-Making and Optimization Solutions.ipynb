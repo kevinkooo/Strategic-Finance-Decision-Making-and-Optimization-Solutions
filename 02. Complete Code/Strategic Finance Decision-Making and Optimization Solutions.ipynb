{
 "cells": [
  {
   "cell_type": "markdown",
   "id": "764953e3",
   "metadata": {},
   "source": [
    "# Strategic Finance Decision-Making and Optimization Solutions"
   ]
  },
  {
   "cell_type": "markdown",
   "id": "e161552d",
   "metadata": {
    "tags": []
   },
   "source": [
    "## Author: Sally Lee"
   ]
  },
  {
   "cell_type": "code",
   "execution_count": 1,
   "id": "2cff84fe-6cb8-4dab-95f0-9548cf62cba4",
   "metadata": {
    "tags": []
   },
   "outputs": [],
   "source": [
    "using PyPlot, JuMP, GLPK, DataFrames, CSV"
   ]
  },
  {
   "cell_type": "markdown",
   "id": "7fbad80d",
   "metadata": {},
   "source": [
    "## Short-term Financing Problem"
   ]
  },
  {
   "cell_type": "markdown",
   "id": "bc5ce4aa",
   "metadata": {},
   "source": [
    "The company has two methods to conduct short-term financing. It can borrow up to $100k monthly at a 0.5% interest rate per month. It can also issue a 3-month zero-coupon bond at 1.5% for a three month period. Any available cash at the end of each month can earn 0.2% interest rate per month.\n",
    "\n",
    "The company's net cash flow is as described in the table below\n",
    "|Month\t| Jul 2013\t| Aug 2013\t| Sep 2013\t| Oct 2013\t| Nov 2013\t| Dec 2013\t\n",
    "| ------| ------| ------| ------| -------| -------| -------\n",
    "| NCF\t| -250\t| -50\t| 225\t| -175 | 150 | 400"
   ]
  },
  {
   "cell_type": "markdown",
   "id": "b8672776",
   "metadata": {},
   "source": [
    "We set our variables as following:\n",
    "\n",
    "- Lending credit as xi - 0.5% borrowing cost\n",
    "- Bond issuance as yi - 1.5% borrowing cost\n",
    "- Excess cash as zi - 0.2% return on cash\n",
    "- v as objective function variable - our goal is to maximise v (v is the same as  z6 - excess cash in December 2013)\n",
    "\n",
    "The net cash flow (NCF) requirement for each month serves as a constraint in our optimization problem. "
   ]
  },
  {
   "cell_type": "markdown",
   "id": "58f86b9d",
   "metadata": {},
   "source": [
    "#### Our objective function and constraints are defined as follows:"
   ]
  },
  {
   "cell_type": "code",
   "execution_count": 2,
   "id": "646cb474",
   "metadata": {},
   "outputs": [
    {
     "data": {
      "text/latex": [
       "$$ \\begin{aligned}\n",
       "\\max\\quad & v\\\\\n",
       "\\text{Subject to} \\quad & x_{1} + y_{1} - z_{1} = 250\\\\\n",
       " & -1.005 x_{1} + x_{2} + y_{2} + 1.002 z_{1} - z_{2} = 50\\\\\n",
       " & -1.005 x_{2} + x_{3} + y_{3} + 1.002 z_{2} - z_{3} = -225\\\\\n",
       " & -1.005 x_{3} + x_{4} - 1.015 y_{1} + 1.002 z_{3} - z_{4} = 175\\\\\n",
       " & -1.005 x_{4} + x_{5} - 1.015 y_{2} + 1.002 z_{4} - z_{5} = -150\\\\\n",
       " & -1.005 x_{5} - 1.015 y_{3} + 1.002 z_{5} - v = -400\\\\\n",
       " & x_{1} \\geq 0\\\\\n",
       " & x_{2} \\geq 0\\\\\n",
       " & x_{3} \\geq 0\\\\\n",
       " & x_{4} \\geq 0\\\\\n",
       " & x_{5} \\geq 0\\\\\n",
       " & y_{1} \\geq 0\\\\\n",
       " & y_{2} \\geq 0\\\\\n",
       " & y_{3} \\geq 0\\\\\n",
       " & z_{1} \\geq 0\\\\\n",
       " & z_{2} \\geq 0\\\\\n",
       " & z_{3} \\geq 0\\\\\n",
       " & z_{4} \\geq 0\\\\\n",
       " & z_{5} \\geq 0\\\\\n",
       " & v \\geq 0\\\\\n",
       " & x_{1} \\leq 100\\\\\n",
       " & x_{2} \\leq 100\\\\\n",
       " & x_{3} \\leq 100\\\\\n",
       " & x_{4} \\leq 100\\\\\n",
       " & x_{5} \\leq 100\\\\\n",
       "\\end{aligned} $$"
      ]
     },
     "metadata": {},
     "output_type": "display_data"
    },
    {
     "name": "stdout",
     "output_type": "stream",
     "text": [
      "\n",
      "OPTIMAL\n",
      "Objective value: 294.4028592065869\n",
      "x = [100.0, 100.0, 0.0, 100.0, 1.7574999999999648]\n",
      "y = [150.0, 50.499999999999986, 102.2964071856287]\n",
      "z = [0.0, 0.0, 226.7964071856287, 0.0, 0.0]\n"
     ]
    }
   ],
   "source": [
    "using JuMP, GLPK\n",
    "\n",
    "solver = JuMP.Model(GLPK.Optimizer)\n",
    "\n",
    "# Set the variables\n",
    "@variable(solver, 0 <= x[1:5] <= 100) # amount borrowed from credit in month i\n",
    "@variable(solver, 0 <= y[1:3]) # bond issued in month i\n",
    "@variable(solver, 0 <= z[1:5]) # excess cash in month i\n",
    "@variable(solver, v >= 0) # company wealth in Dec\n",
    "\n",
    "# Set the constraints for cash flows each month\n",
    "@constraint(solver, x[1] + y[1] - z[1] == 250)   # July\n",
    "@constraint(solver, x[2] + y[2] - 1.005*x[1] + 1.002*z[1] - z[2] == 50)    # August\n",
    "@constraint(solver, x[3] + y[3] - 1.005*x[2] + 1.002*z[2] - z[3] == -225)  # September\n",
    "@constraint(solver, x[4] - 1.015*y[1] - 1.005*x[3] + 1.002*z[3] - z[4] == 175) # October\n",
    "@constraint(solver, x[5] - 1.015*y[2] - 1.005*x[4] + 1.002*z[4] - z[5] == -150) # November\n",
    "@constraint(solver, -1.015*y[3] - 1.005*x[5] + 1.002*z[5] - v == -400)     # December\n",
    "\n",
    "# Objective is to maximaize the cash flow in Dec\n",
    "@objective(solver, Max, v)\n",
    "\n",
    "optimize!(solver)\n",
    "\n",
    "print(solver)\n",
    "\n",
    "println()\n",
    "println(termination_status(solver))\n",
    "println(\"Objective value: \", JuMP.objective_value(solver))\n",
    "println(\"x = \", value.(x))\n",
    "println(\"y = \", value.(y))\n",
    "println(\"z = \", value.(z))"
   ]
  },
  {
   "cell_type": "markdown",
   "id": "7b71681f",
   "metadata": {},
   "source": [
    "### First, we find the amount of borrowing between the two instruments for each month that maximizes the total amount of cash available in December 2013."
   ]
  },
  {
   "cell_type": "code",
   "execution_count": 3,
   "id": "a86fb5b9",
   "metadata": {},
   "outputs": [
    {
     "name": "stdout",
     "output_type": "stream",
     "text": [
      "\n",
      "OPTIMAL\n",
      "Objective value: 294.4028592065869\n",
      "x1 = 100.00000000000001\n",
      "x2 = 100.00000000000001\n",
      "x3 = 0.0\n",
      "x4 = 100.0\n",
      "x5 = 1.7574999999999759\n",
      "y1 = 149.99999999999997\n",
      "y2 = 50.499999999999986\n",
      "y3 = 102.2964071856287\n",
      "z1 = 0.0\n",
      "z2 = 0.0\n",
      "z3 = 226.79640718562868\n",
      "z4 = 0.0\n",
      "z5 = 0.0\n",
      "v = 294.4028592065869\n"
     ]
    }
   ],
   "source": [
    "# Try to use metrics to solve the problem - set x1 to x14 to represent xi, yi, and zi\n",
    "solver = JuMP.Model(GLPK.Optimizer)\n",
    "\n",
    "# Set matrices - A for constraint coefficient, b for constraint solutions, c for objective function \n",
    "A = [ 1.000  0.000  0.000  0.000  0.000  1.000  0.000  0.000 -1.000  0.000  0.000  0.000  0.000  0.000;\n",
    "         -1.005  1.000  0.000  0.000  0.000  0.000  1.000  0.000  1.002 -1.000  0.000  0.000  0.000  0.000;\n",
    "          0.000 -1.005  1.000  0.000  0.000  0.000  0.000  1.000  0.000  1.002 -1.000  0.000  0.000  0.000;\n",
    "          0.000  0.000 -1.005  1.000  0.000 -1.015  0.000  0.000  0.000  0.000  1.002 -1.000  0.000  0.000;\n",
    "          0.000  0.000  0.000 -1.005  1.000  0.000 -1.015  0.000  0.000  0.000  0.000  1.002 -1.000  0.000;\n",
    "          0.000  0.000  0.000  0.000 -1.005  0.000  0.000 -1.015  0.000  0.000  0.000  0.000  1.002 -1.000;]\n",
    "b = [250.0; 50.0; -225.0; 175.0; -150.0; -400.0;]    \n",
    "c = [0.000; 0.000; 0.000; 0.000; -1.005; 0.000; 0.000; -1.015; 0.000; 0.000; 0.000; 0.000; 1.002; -1.000;]\n",
    "\n",
    "\n",
    "@variable(solver,  x[1:14] >= 0)\n",
    "\n",
    "@constraint(solver, x[1] <= 100)\n",
    "@constraint(solver, x[2] <= 100)\n",
    "@constraint(solver, x[3] <= 100)\n",
    "@constraint(solver, x[4] <= 100)\n",
    "@constraint(solver, x[5] <= 100)\n",
    "@constraint(solver, A * x .== b)\n",
    "\n",
    "@objective(solver, Max, x[14])\n",
    "\n",
    "status = optimize!(solver)\n",
    "\n",
    "println()\n",
    "println(termination_status(solver))\n",
    "println(\"Objective value: \", objective_value(solver))\n",
    "println(\"x1 = \", value(x[1]))\n",
    "println(\"x2 = \", value(x[2]))\n",
    "println(\"x3 = \", value(x[3]))\n",
    "println(\"x4 = \", value(x[4]))\n",
    "println(\"x5 = \", value(x[5]))\n",
    "println(\"y1 = \", value(x[6]))\n",
    "println(\"y2 = \", value(x[7]))\n",
    "println(\"y3 = \", value(x[8]))\n",
    "println(\"z1 = \", value(x[9]))\n",
    "println(\"z2 = \", value(x[10]))\n",
    "println(\"z3 = \", value(x[11]))\n",
    "println(\"z4 = \", value(x[12]))\n",
    "println(\"z5 = \", value(x[13]))\n",
    "println(\"v = \", value(x[14]))\n"
   ]
  },
  {
   "cell_type": "markdown",
   "id": "17c3643a",
   "metadata": {},
   "source": [
    "#### Credit/Bond borrowing per month (in thousands of dollars):"
   ]
  },
  {
   "cell_type": "code",
   "execution_count": 4,
   "id": "e9b4f21b",
   "metadata": {},
   "outputs": [
    {
     "data": {
      "text/html": [
       "<div><div style = \"float: left;\"><span>6×3 DataFrame</span></div><div style = \"clear: both;\"></div></div><div class = \"data-frame\" style = \"overflow-x: scroll;\"><table class = \"data-frame\" style = \"margin-bottom: 6px;\"><thead><tr class = \"header\"><th class = \"rowNumber\" style = \"font-weight: bold; text-align: right;\">Row</th><th style = \"text-align: left;\">Month</th><th style = \"text-align: left;\">Credit</th><th style = \"text-align: left;\">Bonds</th></tr><tr class = \"subheader headerLastRow\"><th class = \"rowNumber\" style = \"font-weight: bold; text-align: right;\"></th><th title = \"String\" style = \"text-align: left;\">String</th><th title = \"Float64\" style = \"text-align: left;\">Float64</th><th title = \"Float64\" style = \"text-align: left;\">Float64</th></tr></thead><tbody><tr><td class = \"rowNumber\" style = \"font-weight: bold; text-align: right;\">1</td><td style = \"text-align: left;\">Jul</td><td style = \"text-align: right;\">100.0</td><td style = \"text-align: right;\">150.0</td></tr><tr><td class = \"rowNumber\" style = \"font-weight: bold; text-align: right;\">2</td><td style = \"text-align: left;\">Aug</td><td style = \"text-align: right;\">100.0</td><td style = \"text-align: right;\">50.5</td></tr><tr><td class = \"rowNumber\" style = \"font-weight: bold; text-align: right;\">3</td><td style = \"text-align: left;\">Sep</td><td style = \"text-align: right;\">0.0</td><td style = \"text-align: right;\">102.3</td></tr><tr><td class = \"rowNumber\" style = \"font-weight: bold; text-align: right;\">4</td><td style = \"text-align: left;\">Oct</td><td style = \"text-align: right;\">100.0</td><td style = \"text-align: right;\">0.0</td></tr><tr><td class = \"rowNumber\" style = \"font-weight: bold; text-align: right;\">5</td><td style = \"text-align: left;\">Nov</td><td style = \"text-align: right;\">1.76</td><td style = \"text-align: right;\">0.0</td></tr><tr><td class = \"rowNumber\" style = \"font-weight: bold; text-align: right;\">6</td><td style = \"text-align: left;\">Dec</td><td style = \"text-align: right;\">0.0</td><td style = \"text-align: right;\">0.0</td></tr></tbody></table></div>"
      ],
      "text/latex": [
       "\\begin{tabular}{r|ccc}\n",
       "\t& Month & Credit & Bonds\\\\\n",
       "\t\\hline\n",
       "\t& String & Float64 & Float64\\\\\n",
       "\t\\hline\n",
       "\t1 & Jul & 100.0 & 150.0 \\\\\n",
       "\t2 & Aug & 100.0 & 50.5 \\\\\n",
       "\t3 & Sep & 0.0 & 102.3 \\\\\n",
       "\t4 & Oct & 100.0 & 0.0 \\\\\n",
       "\t5 & Nov & 1.76 & 0.0 \\\\\n",
       "\t6 & Dec & 0.0 & 0.0 \\\\\n",
       "\\end{tabular}\n"
      ],
      "text/plain": [
       "\u001b[1m6×3 DataFrame\u001b[0m\n",
       "\u001b[1m Row \u001b[0m│\u001b[1m Month  \u001b[0m\u001b[1m Credit  \u001b[0m\u001b[1m Bonds   \u001b[0m\n",
       "     │\u001b[90m String \u001b[0m\u001b[90m Float64 \u001b[0m\u001b[90m Float64 \u001b[0m\n",
       "─────┼──────────────────────────\n",
       "   1 │ Jul      100.0     150.0\n",
       "   2 │ Aug      100.0      50.5\n",
       "   3 │ Sep        0.0     102.3\n",
       "   4 │ Oct      100.0       0.0\n",
       "   5 │ Nov        1.76      0.0\n",
       "   6 │ Dec        0.0       0.0"
      ]
     },
     "execution_count": 4,
     "metadata": {},
     "output_type": "execute_result"
    }
   ],
   "source": [
    "dfFin = DataFrame([\n",
    "        [\"Jul\", \"Aug\", \"Sep\", \"Oct\", \"Nov\", \"Dec\"],\n",
    "        [100, 100, 0, 100, 1.76, 0], \n",
    "        [150, 50.50, 102.30, 0, 0, 0]\n",
    "        ], \n",
    "        [:Month, :Credit, :Bonds])"
   ]
  },
  {
   "cell_type": "markdown",
   "id": "4b580141",
   "metadata": {},
   "source": [
    "### Then, we try to find the optimal amount of cash on Dec 2013."
   ]
  },
  {
   "cell_type": "markdown",
   "id": "089660f6",
   "metadata": {},
   "source": [
    "The optimal amount of cash on Dec 2013 is around 294,402.86 dollar."
   ]
  },
  {
   "cell_type": "markdown",
   "id": "739b0764",
   "metadata": {},
   "source": [
    "### FInally, we interpret the results and develop a storyline implied by the LP solution."
   ]
  },
  {
   "cell_type": "markdown",
   "id": "5a2a6209",
   "metadata": {},
   "source": [
    "The LP solution provides a strategic plan for optimizing the total amount of cash available in December 2013 through borrowing between credit and bonds over a six-month period.\n",
    "\n",
    "In July and August, the corporation experienced negative cash flows, requiring financing from both credit and bonds to cover the cash outflows.\n",
    "\n",
    "By September, the cash flow turned positive, allowing the corporation to repay the credit borrowing while still borrowing from bonds to supplement cash reserves.\n",
    "\n",
    "In October, the corporation experienced another period of negative cash flows and thus borrowed from credit to meet financial obligations.\n",
    "\n",
    "In November, since the cash flow remained positive, the corporation only borrowed a small amount from credit, indicating a strategic decision to minimize borrowing and maintain a conservative financial approach.\n",
    "\n",
    "In December, the corporation's cash flow significantly improved, enabling it to avoid borrowing from either instrument. Instead, it generated excess cash, which is available for investment to accumulate interest, further enhancing the corporation's financial position.\n",
    "\n",
    "Overall, the linear programming solution demonstrates a dynamic approach to cash management by leveraging borrowing options to navigate through periods of negative cash flows while minimizing borrowing costs during periods of positive cash flows. This strategy effectively optimized cash availability, leading to a favorable financial outcome by December 2013."
   ]
  },
  {
   "cell_type": "markdown",
   "id": "c0d27fa9",
   "metadata": {},
   "source": [
    "## Currency Arbitrage Problem"
   ]
  },
  {
   "cell_type": "markdown",
   "id": "3c6c47c3",
   "metadata": {},
   "source": [
    "The table below presents hypothetical bid/ask quotes for four major currencies at a given date/time:\n",
    "\n",
    "| Pair\t    | Bid\t    | Ask\n",
    "| ------    | ------    | ------\n",
    "| EUR/USD\t| 0.87060\t| 0.87063\n",
    "| GBP/USD\t| 1.42790\t| 1.42796\t\n",
    "| USD/JPY\t| 133.330\t| 133.333\t\n",
    "| EUR/GBP\t| 0.60970\t| 0.60972\t\n",
    "| EUR/JPY\t| 116.140\t| 116.144\t\n",
    "| GBP/JPY\t| 190.480\t| 190.476"
   ]
  },
  {
   "cell_type": "markdown",
   "id": "5171dfba",
   "metadata": {},
   "source": [
    "The first currency in a currency pair is called the base currency. The bid and the ask are always quoted in terms of the base currency. For example, if you are buying on EUR/USD trade, then you are effectively receiving EUR in exchange for USD at the ask quote.\n",
    "\n",
    "We were given USD 1 to attempt an arbitrage trade, assume no transaction costs."
   ]
  },
  {
   "cell_type": "markdown",
   "id": "2d4bc56d",
   "metadata": {},
   "source": [
    "### We first write down a linear programming problem to buy and sell quantities of the base currencies and arbitrage/profit of at most USD 10k."
   ]
  },
  {
   "cell_type": "markdown",
   "id": "8861f380",
   "metadata": {},
   "source": [
    "We set the problem by setting variables related to all exchanges between currencies.\n",
    "\n",
    "D = quantity of USD generated through arbitrage\n",
    "\n",
    "DE, DP, DY = quantity of USD changed into EUR, GBP, and JPY respectively\n",
    "\n",
    "ED, EP, EY = quantity of EUR changed into USD, GBP, and JPY respectively\n",
    "\n",
    "PD, PE, PY = quantity of GBP changed into USD, EUR, and JPY respectively\n",
    "\n",
    "YD, YE, YP = quantity of JPY changed into USD, EUR, and GBP respectively"
   ]
  },
  {
   "cell_type": "markdown",
   "id": "ef6adc83",
   "metadata": {},
   "source": [
    "We also transformed the bid/ask quote into exchange rate. The following table shows the exchange rates that could be use as our constraints."
   ]
  },
  {
   "cell_type": "markdown",
   "id": "9f8f40c6",
   "metadata": {},
   "source": [
    "| TO / FROM\t| USD\t| EUR\t| JPY\t| GBP\n",
    "| ----------| ------| ------| ------| -------\n",
    "| USD\t| 1\t| 0.87060\t| 1/133.333\t| 1.42790\n",
    "| EUR\t| 1/0.87063\t| 1\t| 1/116.144\t| 1/0.60972\n",
    "| JPY\t| 133.330\t| 116.140\t| 1\t| 190.480\n",
    "| GBP\t| 1/1.42796\t| 0.60970\t| 1/190.476\t| 1"
   ]
  },
  {
   "cell_type": "code",
   "execution_count": 5,
   "id": "c7a16b03",
   "metadata": {},
   "outputs": [
    {
     "data": {
      "text/latex": [
       "$$ \\begin{aligned}\n",
       "\\max\\quad & D\\\\\n",
       "\\text{Subject to} \\quad & DE + DP - 0.007500018750046875 YD - 0.8706 ED - 1.4279 PD + DY + D = 1\\\\\n",
       " & -1.148593547201452 DE - 1.6400970937479498 PE - 0.00861000137760022 YE + ED + EP + EY = 0\\\\\n",
       " & -0.7002997282837055 DP + PE - 0.00525000525000525 YP + PD - 0.6097 EP + PY = 0\\\\\n",
       " & YD + YE + YP - 133.33 DY - 116.14 EY - 190.48 PY = 0\\\\\n",
       " & D \\leq 10000\\\\\n",
       " & DE \\geq 0\\\\\n",
       " & DP \\geq 0\\\\\n",
       " & YD \\geq 0\\\\\n",
       " & PE \\geq 0\\\\\n",
       " & YE \\geq 0\\\\\n",
       " & YP \\geq 0\\\\\n",
       " & ED \\geq 0\\\\\n",
       " & PD \\geq 0\\\\\n",
       " & DY \\geq 0\\\\\n",
       " & EP \\geq 0\\\\\n",
       " & EY \\geq 0\\\\\n",
       " & PY \\geq 0\\\\\n",
       " & D \\geq 0\\\\\n",
       "\\end{aligned} $$"
      ]
     },
     "metadata": {},
     "output_type": "display_data"
    }
   ],
   "source": [
    "using JuMP, GLPK\n",
    "\n",
    "solver = JuMP.Model(GLPK.Optimizer)\n",
    "\n",
    "# Set the variables\n",
    "@variable(solver, DE >= 0) # quantity of USD to EUR\n",
    "@variable(solver, DP >= 0) # quantity of USD to GBP\n",
    "@variable(solver, YD >= 0) # quantity of JPY to USD\n",
    "@variable(solver, PE >= 0) # quantity of GBP to EUR\n",
    "@variable(solver, YE >= 0) # quantity of JPY to EUR\n",
    "@variable(solver, YP >= 0) # quantity of JPY to GBP\n",
    "@variable(solver, ED >= 0) # quantity of EUR to USD\n",
    "@variable(solver, PD >= 0) # quantity of GBP to USD\n",
    "@variable(solver, DY >= 0) # quantity of USD to JPY\n",
    "@variable(solver, EP >= 0) # quantity of EUR to GBP\n",
    "@variable(solver, EY >= 0) # quantity of EUR to JPY\n",
    "@variable(solver, PY >= 0) # quantity of GBP to JPY\n",
    "@variable(solver, D >= 0) # quantity of USD generated through arbitrage\n",
    "\n",
    "# Set the constraints for cash flows each month\n",
    "@constraint(solver, D + DE + DP + DY - 0.87060*ED - 1.42790*PD - (1/133.333)*YD == 1)   # USD\n",
    "@constraint(solver, ED + EP + EY - (1/0.87063)*DE - (1/0.60972)*PE - (1/116.144)*YE == 0)    # EUR\n",
    "@constraint(solver, PD +PE + PY - (1/1.42796)*DP - 0.60970*EP - (1/190.476)*YP == 0)  # GBP\n",
    "@constraint(solver, YD + YE + YP - 133.330*DY - 116.140*EY - 190.480*PY == 0) # JPY\n",
    "@constraint(solver, D <= 10000) # USD arbitrage\n",
    "\n",
    "# Objective is to maximaize the cash flow in Dec\n",
    "@objective(solver, Max, D)\n",
    "\n",
    "optimize!(solver)\n",
    "\n",
    "print(solver)"
   ]
  },
  {
   "cell_type": "markdown",
   "id": "ee6d9f51",
   "metadata": {},
   "source": [
    "### Then, we solve for the buy/sell quantities and the arbitrage/profit amount."
   ]
  },
  {
   "cell_type": "code",
   "execution_count": 6,
   "id": "2e62aa0a",
   "metadata": {},
   "outputs": [
    {
     "name": "stdout",
     "output_type": "stream",
     "text": [
      "\n",
      "OPTIMAL\n",
      "Objective value: 10000.0\n",
      "DE = 2.0620299945404414e7\n",
      "DP = 0.0\n",
      "YD = 2.7506996492876062e9\n",
      "PE = 0.0\n",
      "YE = 0.0\n",
      "YP = 0.0\n",
      "ED = 0.0\n",
      "PD = 0.0\n",
      "DY = 0.0\n",
      "EP = 0.0\n",
      "EY = 2.368434345864996e7\n",
      "PY = 0.0\n"
     ]
    }
   ],
   "source": [
    "println()\n",
    "println(termination_status(solver))\n",
    "println(\"Objective value: \", JuMP.objective_value(solver))\n",
    "println(\"DE = \", value.(DE))\n",
    "println(\"DP = \", value.(DP))\n",
    "println(\"YD = \", value.(YD))\n",
    "println(\"PE = \", value.(PE))\n",
    "println(\"YE = \", value.(YE))\n",
    "println(\"YP = \", value.(YP))\n",
    "println(\"ED = \", value.(ED))\n",
    "println(\"PD = \", value.(PD))\n",
    "println(\"DY = \", value.(DY))\n",
    "println(\"EP = \", value.(EP))\n",
    "println(\"EY = \", value.(EY))\n",
    "println(\"PY = \", value.(PY))"
   ]
  },
  {
   "cell_type": "markdown",
   "id": "5c388f47",
   "metadata": {},
   "source": [
    "The arbitrage amount is 10,000 and the buy/sell quantities among currencies are as following (rounded to the 2nd decimal point):"
   ]
  },
  {
   "cell_type": "markdown",
   "id": "788b4161",
   "metadata": {},
   "source": [
    "| TO / FROM\t| USD\t| EUR\t| JPY\t| GBP\n",
    "| ----------| ------| ------| ------| -------\n",
    "| USD\t| 0\t| 0\t| 2,750,699,649.29\t| 0\n",
    "| EUR\t| 20,620,299.95\t| 0\t| 0\t| 0\n",
    "| JPY\t| 0\t| 23,684,343.46\t| 0\t| 0\n",
    "| GBP\t| 0\t| 0\t| 0\t| 0"
   ]
  },
  {
   "cell_type": "markdown",
   "id": "066fe227",
   "metadata": {},
   "source": [
    "### Finally, we interpret the results and develop a story of the trade executions and the resulting profit."
   ]
  },
  {
   "cell_type": "markdown",
   "id": "9abef42f",
   "metadata": {},
   "source": [
    "The above results suggest that the optimal trade executions will be:\n",
    "1. use all available USD to buy EUR\n",
    "2. use all available EUR to buy JPY\n",
    "3. use all available JPY to buy USD\n",
    "4. Repeat the above steps until the maximum arbitrage of USD 10,000 is met\n",
    "\n",
    "The result also demonstrates that the trade execution can yield infinite arbitrage value in the absence of transaction costs, limits on transactions, or maximum profit constraints. However, real-world currency exchange typically incurs high transaction fees. Incorporating fees and other costs into the optimization problem may offer a more realistic solution for practical applications in real-world scenarios."
   ]
  },
  {
   "cell_type": "code",
   "execution_count": null,
   "id": "61761e04",
   "metadata": {},
   "outputs": [],
   "source": []
  }
 ],
 "metadata": {
  "kernelspec": {
   "display_name": "Julia 1.10.0",
   "language": "julia",
   "name": "julia-1.10"
  },
  "language_info": {
   "file_extension": ".jl",
   "mimetype": "application/julia",
   "name": "julia",
   "version": "1.10.0"
  }
 },
 "nbformat": 4,
 "nbformat_minor": 5
}
